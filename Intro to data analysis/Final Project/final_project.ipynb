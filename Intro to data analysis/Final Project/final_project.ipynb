{
 "cells": [
  {
   "cell_type": "code",
   "execution_count": 1,
   "metadata": {},
   "outputs": [
    {
     "data": {
      "text/html": [
       "<div>\n",
       "<style scoped>\n",
       "    .dataframe tbody tr th:only-of-type {\n",
       "        vertical-align: middle;\n",
       "    }\n",
       "\n",
       "    .dataframe tbody tr th {\n",
       "        vertical-align: top;\n",
       "    }\n",
       "\n",
       "    .dataframe thead th {\n",
       "        text-align: right;\n",
       "    }\n",
       "</style>\n",
       "<table border=\"1\" class=\"dataframe\">\n",
       "  <thead>\n",
       "    <tr style=\"text-align: right;\">\n",
       "      <th></th>\n",
       "      <th>PassengerId</th>\n",
       "      <th>Survived</th>\n",
       "      <th>Pclass</th>\n",
       "      <th>Name</th>\n",
       "      <th>Sex</th>\n",
       "      <th>Age</th>\n",
       "      <th>SibSp</th>\n",
       "      <th>Parch</th>\n",
       "      <th>Ticket</th>\n",
       "      <th>Fare</th>\n",
       "      <th>Cabin</th>\n",
       "      <th>Embarked</th>\n",
       "    </tr>\n",
       "  </thead>\n",
       "  <tbody>\n",
       "    <tr>\n",
       "      <th>0</th>\n",
       "      <td>1</td>\n",
       "      <td>0</td>\n",
       "      <td>3</td>\n",
       "      <td>Braund, Mr. Owen Harris</td>\n",
       "      <td>male</td>\n",
       "      <td>22.0</td>\n",
       "      <td>1</td>\n",
       "      <td>0</td>\n",
       "      <td>A/5 21171</td>\n",
       "      <td>7.2500</td>\n",
       "      <td>NaN</td>\n",
       "      <td>S</td>\n",
       "    </tr>\n",
       "    <tr>\n",
       "      <th>1</th>\n",
       "      <td>2</td>\n",
       "      <td>1</td>\n",
       "      <td>1</td>\n",
       "      <td>Cumings, Mrs. John Bradley (Florence Briggs Th...</td>\n",
       "      <td>female</td>\n",
       "      <td>38.0</td>\n",
       "      <td>1</td>\n",
       "      <td>0</td>\n",
       "      <td>PC 17599</td>\n",
       "      <td>71.2833</td>\n",
       "      <td>C85</td>\n",
       "      <td>C</td>\n",
       "    </tr>\n",
       "    <tr>\n",
       "      <th>2</th>\n",
       "      <td>3</td>\n",
       "      <td>1</td>\n",
       "      <td>3</td>\n",
       "      <td>Heikkinen, Miss. Laina</td>\n",
       "      <td>female</td>\n",
       "      <td>26.0</td>\n",
       "      <td>0</td>\n",
       "      <td>0</td>\n",
       "      <td>STON/O2. 3101282</td>\n",
       "      <td>7.9250</td>\n",
       "      <td>NaN</td>\n",
       "      <td>S</td>\n",
       "    </tr>\n",
       "    <tr>\n",
       "      <th>3</th>\n",
       "      <td>4</td>\n",
       "      <td>1</td>\n",
       "      <td>1</td>\n",
       "      <td>Futrelle, Mrs. Jacques Heath (Lily May Peel)</td>\n",
       "      <td>female</td>\n",
       "      <td>35.0</td>\n",
       "      <td>1</td>\n",
       "      <td>0</td>\n",
       "      <td>113803</td>\n",
       "      <td>53.1000</td>\n",
       "      <td>C123</td>\n",
       "      <td>S</td>\n",
       "    </tr>\n",
       "    <tr>\n",
       "      <th>4</th>\n",
       "      <td>5</td>\n",
       "      <td>0</td>\n",
       "      <td>3</td>\n",
       "      <td>Allen, Mr. William Henry</td>\n",
       "      <td>male</td>\n",
       "      <td>35.0</td>\n",
       "      <td>0</td>\n",
       "      <td>0</td>\n",
       "      <td>373450</td>\n",
       "      <td>8.0500</td>\n",
       "      <td>NaN</td>\n",
       "      <td>S</td>\n",
       "    </tr>\n",
       "  </tbody>\n",
       "</table>\n",
       "</div>"
      ],
      "text/plain": [
       "   PassengerId  Survived  Pclass  \\\n",
       "0            1         0       3   \n",
       "1            2         1       1   \n",
       "2            3         1       3   \n",
       "3            4         1       1   \n",
       "4            5         0       3   \n",
       "\n",
       "                                                Name     Sex   Age  SibSp  \\\n",
       "0                            Braund, Mr. Owen Harris    male  22.0      1   \n",
       "1  Cumings, Mrs. John Bradley (Florence Briggs Th...  female  38.0      1   \n",
       "2                             Heikkinen, Miss. Laina  female  26.0      0   \n",
       "3       Futrelle, Mrs. Jacques Heath (Lily May Peel)  female  35.0      1   \n",
       "4                           Allen, Mr. William Henry    male  35.0      0   \n",
       "\n",
       "   Parch            Ticket     Fare Cabin Embarked  \n",
       "0      0         A/5 21171   7.2500   NaN        S  \n",
       "1      0          PC 17599  71.2833   C85        C  \n",
       "2      0  STON/O2. 3101282   7.9250   NaN        S  \n",
       "3      0            113803  53.1000  C123        S  \n",
       "4      0            373450   8.0500   NaN        S  "
      ]
     },
     "execution_count": 1,
     "metadata": {},
     "output_type": "execute_result"
    }
   ],
   "source": [
    "import numpy as np\n",
    "import pandas as pd\n",
    "import matplotlib.pyplot as plt\n",
    "import seaborn as sns\n",
    "%matplotlib inline\n",
    "\n",
    "titanic_df = pd.read_csv('D:/Github/data analysis/Intro to data analysis/titanic_data.csv')\n",
    "\n",
    "titanic_df.head()\n"
   ]
  },
  {
   "cell_type": "markdown",
   "metadata": {},
   "source": [
    "To have a general idea of the difference between survived and non survived, find out the mean"
   ]
  },
  {
   "cell_type": "code",
   "execution_count": 2,
   "metadata": {},
   "outputs": [
    {
     "data": {
      "text/html": [
       "<div>\n",
       "<style scoped>\n",
       "    .dataframe tbody tr th:only-of-type {\n",
       "        vertical-align: middle;\n",
       "    }\n",
       "\n",
       "    .dataframe tbody tr th {\n",
       "        vertical-align: top;\n",
       "    }\n",
       "\n",
       "    .dataframe thead th {\n",
       "        text-align: right;\n",
       "    }\n",
       "</style>\n",
       "<table border=\"1\" class=\"dataframe\">\n",
       "  <thead>\n",
       "    <tr style=\"text-align: right;\">\n",
       "      <th></th>\n",
       "      <th>PassengerId</th>\n",
       "      <th>Pclass</th>\n",
       "      <th>Age</th>\n",
       "      <th>SibSp</th>\n",
       "      <th>Parch</th>\n",
       "      <th>Fare</th>\n",
       "    </tr>\n",
       "    <tr>\n",
       "      <th>Survived</th>\n",
       "      <th></th>\n",
       "      <th></th>\n",
       "      <th></th>\n",
       "      <th></th>\n",
       "      <th></th>\n",
       "      <th></th>\n",
       "    </tr>\n",
       "  </thead>\n",
       "  <tbody>\n",
       "    <tr>\n",
       "      <th>0</th>\n",
       "      <td>447.016393</td>\n",
       "      <td>2.531876</td>\n",
       "      <td>30.626179</td>\n",
       "      <td>0.553734</td>\n",
       "      <td>0.329690</td>\n",
       "      <td>22.117887</td>\n",
       "    </tr>\n",
       "    <tr>\n",
       "      <th>1</th>\n",
       "      <td>444.368421</td>\n",
       "      <td>1.950292</td>\n",
       "      <td>28.343690</td>\n",
       "      <td>0.473684</td>\n",
       "      <td>0.464912</td>\n",
       "      <td>48.395408</td>\n",
       "    </tr>\n",
       "  </tbody>\n",
       "</table>\n",
       "</div>"
      ],
      "text/plain": [
       "          PassengerId    Pclass        Age     SibSp     Parch       Fare\n",
       "Survived                                                                 \n",
       "0          447.016393  2.531876  30.626179  0.553734  0.329690  22.117887\n",
       "1          444.368421  1.950292  28.343690  0.473684  0.464912  48.395408"
      ]
     },
     "execution_count": 2,
     "metadata": {},
     "output_type": "execute_result"
    }
   ],
   "source": [
    "titanic_df.groupby('Survived').mean()"
   ]
  },
  {
   "cell_type": "markdown",
   "metadata": {},
   "source": [
    "It seems that Pclass, Age, SibSp, Parch and Fare have different mean values; they need further investigation"
   ]
  },
  {
   "cell_type": "code",
   "execution_count": 3,
   "metadata": {},
   "outputs": [
    {
     "name": "stdout",
     "output_type": "stream",
     "text": [
      "Number of total passangers:  2224\n",
      "Number of total nonsurvived passangers:  1502\n",
      "Number of total survived passangers:  722\n",
      "Ratio of nonsurvival in the population:  0.6753597122302158\n",
      "\n",
      "Number of sample passangers:  891\n",
      "Number of sample nonsurvived passangers:  549\n",
      "Number of sample survived passangers:  342\n",
      "Ratio of nonsurvival in the sample:  0.6161616161616161\n",
      "\n",
      "Missing number of passangers:  1333\n",
      "Missing number of nonsurvived passangers:  953\n",
      "Missing number of survived passangers:  380\n",
      "Ratio of nonsurvival in the missing data:  0.7149287321830458\n"
     ]
    }
   ],
   "source": [
    "population = 2224\n",
    "total_non_survival=1502\n",
    "total_survival=population-total_non_survival\n",
    "\n",
    "sample_non_survival = titanic_df.groupby('Survived')['Survived'].count()[0]\n",
    "sample_survival = titanic_df.groupby('Survived')['Survived'].count()[1]\n",
    "sample = titanic_df['PassengerId'].count()\n",
    "missing_data = population - sample\n",
    "\n",
    "print ('Number of total passangers: ',population)\n",
    "print ('Number of total nonsurvived passangers: ',total_non_survival)\n",
    "print ('Number of total survived passangers: ', total_survival)\n",
    "print ('Ratio of nonsurvival in the population: ',1.0*total_non_survival/population)\n",
    "print ('')\n",
    "\n",
    "print ('Number of sample passangers: ',sample)\n",
    "print ('Number of sample nonsurvived passangers: ',sample_non_survival)\n",
    "print ('Number of sample survived passangers: ',sample_survival)\n",
    "print ('Ratio of nonsurvival in the sample: ',1.0*sample_non_survival/sample)\n",
    "print ('')\n",
    "\n",
    "print ('Missing number of passangers: ',population-sample)\n",
    "print ('Missing number of nonsurvived passangers: ',total_non_survival-sample_non_survival)\n",
    "print ('Missing number of survived passangers: ', total_survival-sample_survival)\n",
    "print ('Ratio of nonsurvival in the missing data: ',1.0*(total_non_survival-sample_non_survival)/missing_data)"
   ]
  },
  {
   "cell_type": "markdown",
   "metadata": {},
   "source": [
    "It is noted that the nonsurvival ratio in the sample is lower than that in the population. It may be easier to obtain the information from the survived passangers, hence the data may be biased towards the survived passangers. "
   ]
  },
  {
   "cell_type": "code",
   "execution_count": 4,
   "metadata": {},
   "outputs": [
    {
     "name": "stdout",
     "output_type": "stream",
     "text": [
      "PassengerId    891\n",
      "Survived       891\n",
      "Pclass         891\n",
      "Name           891\n",
      "Sex            891\n",
      "Age            714\n",
      "SibSp          891\n",
      "Parch          891\n",
      "Ticket         891\n",
      "Fare           891\n",
      "Cabin          204\n",
      "Embarked       889\n",
      "dtype: int64\n"
     ]
    }
   ],
   "source": [
    "numbers=titanic_df.count()\n",
    "print (numbers)"
   ]
  },
  {
   "cell_type": "markdown",
   "metadata": {},
   "source": [
    "From the count results, the numbers of Age, Cabin, and Embarked are smaller than the number of sample data here (which is 891). This suggests that there are missing values for these 3 columns. In later analysis, when using the data from these three fields, I will first remove the missing values and then do further analysis.\n",
    "\n",
    "First, I will investigate how age was correlated with survival. Since it seems that the total count of age is smaller than the number of passengers (indicating missing values), I will first print out one sample of missing age and then drop passengers whose age data is missing. Notice that after cleaning missing values for age column, some passengers don't have Cabin or Embarked information. Since I'm not going to research Cabin and Embarked information in this study, I will only drop NaN for Age column."
   ]
  },
  {
   "cell_type": "code",
   "execution_count": 5,
   "metadata": {},
   "outputs": [
    {
     "name": "stdout",
     "output_type": "stream",
     "text": [
      "A passenger without Age information\n",
      "\n",
      "PassengerId                   6\n",
      "Survived                      0\n",
      "Pclass                        3\n",
      "Name           Moran, Mr. James\n",
      "Sex                        male\n",
      "Age                         NaN\n",
      "SibSp                         0\n",
      "Parch                         0\n",
      "Ticket                   330877\n",
      "Fare                     8.4583\n",
      "Cabin                       NaN\n",
      "Embarked                      Q\n",
      "Name: 5, dtype: object\n"
     ]
    }
   ],
   "source": [
    "N = titanic_df['PassengerId'].count()\n",
    "\n",
    "i = 0\n",
    "while i < N:\n",
    "    if pd.isnull(titanic_df['Age'][i]):\n",
    "        print ('A passenger without Age information')\n",
    "        print ('')\n",
    "        print (titanic_df.iloc[i])\n",
    "        break\n",
    "    i = i + 1 "
   ]
  },
  {
   "cell_type": "code",
   "execution_count": 6,
   "metadata": {},
   "outputs": [
    {
     "name": "stdout",
     "output_type": "stream",
     "text": [
      "Total number of data with missing age:  177\n",
      "Ratio of survival and nonsurvival in these data:\n",
      "1    0.293785\n",
      "0    0.706215\n",
      "Name: Survived, dtype: float64\n"
     ]
    }
   ],
   "source": [
    "missing_survival = titanic_df[titanic_df['Age'].isnull()]\n",
    "#print (missing_survival.head())\n",
    "missing_survival_s = missing_survival['Survived']\n",
    "\n",
    "print (\"Total number of data with missing age: \",missing_survival_s.count())\n",
    "print (\"Ratio of survival and nonsurvival in these data:\")\n",
    "print (missing_survival_s.value_counts(1,ascending=True))\n"
   ]
  },
  {
   "cell_type": "markdown",
   "metadata": {},
   "source": [
    "About 70% of passangers with missing age did not survival; it is harder to identify their age. However, there is no age information regarding the remaining 30% of survivals; it may be due to wrong data collection, the refuse of telling the age, etc."
   ]
  },
  {
   "cell_type": "code",
   "execution_count": 7,
   "metadata": {},
   "outputs": [
    {
     "data": {
      "text/plain": [
       "PassengerId    714\n",
       "Survived       714\n",
       "Pclass         714\n",
       "Name           714\n",
       "Sex            714\n",
       "Age            714\n",
       "SibSp          714\n",
       "Parch          714\n",
       "Ticket         714\n",
       "Fare           714\n",
       "Cabin          185\n",
       "Embarked       712\n",
       "dtype: int64"
      ]
     },
     "execution_count": 7,
     "metadata": {},
     "output_type": "execute_result"
    }
   ],
   "source": [
    "agesex_df = titanic_df.dropna(subset = ['Age'])\n",
    "agesex_df.count()"
   ]
  },
  {
   "cell_type": "code",
   "execution_count": 8,
   "metadata": {},
   "outputs": [
    {
     "name": "stdout",
     "output_type": "stream",
     "text": [
      "Percentage of missing age = 19.865319865319865 %\n"
     ]
    }
   ],
   "source": [
    "print (\"Percentage of missing age =\", (1.0 - 1.0*agesex_df['Age'].count()/titanic_df['PassengerId'].count())*100, \"%\")"
   ]
  },
  {
   "cell_type": "markdown",
   "metadata": {},
   "source": [
    "About %20 of data in the sample is dropped, and only 714 sample datas are left, which is about 30% of the population. The sample may not reflect the population well due to the sample collection process"
   ]
  },
  {
   "cell_type": "code",
   "execution_count": 9,
   "metadata": {},
   "outputs": [],
   "source": [
    "agesex_df.head()\n",
    "\n",
    "non_survived_df = agesex_df[agesex_df['Survived'] == 0]\n",
    "survived_df = agesex_df[agesex_df['Survived'] == 1]"
   ]
  },
  {
   "cell_type": "code",
   "execution_count": 21,
   "metadata": {},
   "outputs": [],
   "source": [
    "def plot_by_age(data,is_survival):\n",
    "    data.hist(column='Age',bins=10,range=(0,80))\n",
    "    title='Age distribution of ' + is_survival + ' passengers'\n",
    "    plt.title(title)\n",
    "    plt.xlabel('Age(Years)')\n",
    "    plt.ylabel('Count')\n",
    "    plt.ylim((0,120))\n"
   ]
  },
  {
   "cell_type": "code",
   "execution_count": 20,
   "metadata": {},
   "outputs": [
    {
     "data": {
      "image/png": "[encoded data removed]",
      "text/plain": [
       "<Figure size 432x288 with 1 Axes>"
      ]
     },
     "metadata": {},
     "output_type": "display_data"
    },
    {
     "data": {
      "image/png": "[encoded data removed]",
      "text/plain": [
       "<Figure size 432x288 with 1 Axes>"
      ]
     },
     "metadata": {},
     "output_type": "display_data"
    }
   ],
   "source": [
    "plot_by_age(non_survived_df,'nonsurvival')\n",
    "plot_by_age(survived_df,'survival')\n",
    "plt.show()"
   ]
  },
  {
   "cell_type": "code",
   "execution_count": 25,
   "metadata": {},
   "outputs": [
    {
     "data": {
      "text/html": [
       "<div>\n",
       "<style scoped>\n",
       "    .dataframe tbody tr th:only-of-type {\n",
       "        vertical-align: middle;\n",
       "    }\n",
       "\n",
       "    .dataframe tbody tr th {\n",
       "        vertical-align: top;\n",
       "    }\n",
       "\n",
       "    .dataframe thead th {\n",
       "        text-align: right;\n",
       "    }\n",
       "</style>\n",
       "<table border=\"1\" class=\"dataframe\">\n",
       "  <thead>\n",
       "    <tr style=\"text-align: right;\">\n",
       "      <th></th>\n",
       "      <th>PassengerId</th>\n",
       "      <th>Survived</th>\n",
       "      <th>Pclass</th>\n",
       "      <th>Name</th>\n",
       "      <th>Sex</th>\n",
       "      <th>Age</th>\n",
       "      <th>SibSp</th>\n",
       "      <th>Parch</th>\n",
       "      <th>Ticket</th>\n",
       "      <th>Fare</th>\n",
       "      <th>Cabin</th>\n",
       "      <th>Embarked</th>\n",
       "    </tr>\n",
       "    <tr>\n",
       "      <th>Age</th>\n",
       "      <th></th>\n",
       "      <th></th>\n",
       "      <th></th>\n",
       "      <th></th>\n",
       "      <th></th>\n",
       "      <th></th>\n",
       "      <th></th>\n",
       "      <th></th>\n",
       "      <th></th>\n",
       "      <th></th>\n",
       "      <th></th>\n",
       "      <th></th>\n",
       "    </tr>\n",
       "  </thead>\n",
       "  <tbody>\n",
       "    <tr>\n",
       "      <th>(0, 10]</th>\n",
       "      <td>64</td>\n",
       "      <td>64</td>\n",
       "      <td>64</td>\n",
       "      <td>64</td>\n",
       "      <td>64</td>\n",
       "      <td>64</td>\n",
       "      <td>64</td>\n",
       "      <td>64</td>\n",
       "      <td>64</td>\n",
       "      <td>64</td>\n",
       "      <td>10</td>\n",
       "      <td>64</td>\n",
       "    </tr>\n",
       "    <tr>\n",
       "      <th>(10, 20]</th>\n",
       "      <td>115</td>\n",
       "      <td>115</td>\n",
       "      <td>115</td>\n",
       "      <td>115</td>\n",
       "      <td>115</td>\n",
       "      <td>115</td>\n",
       "      <td>115</td>\n",
       "      <td>115</td>\n",
       "      <td>115</td>\n",
       "      <td>115</td>\n",
       "      <td>19</td>\n",
       "      <td>115</td>\n",
       "    </tr>\n",
       "    <tr>\n",
       "      <th>(20, 30]</th>\n",
       "      <td>230</td>\n",
       "      <td>230</td>\n",
       "      <td>230</td>\n",
       "      <td>230</td>\n",
       "      <td>230</td>\n",
       "      <td>230</td>\n",
       "      <td>230</td>\n",
       "      <td>230</td>\n",
       "      <td>230</td>\n",
       "      <td>230</td>\n",
       "      <td>40</td>\n",
       "      <td>230</td>\n",
       "    </tr>\n",
       "    <tr>\n",
       "      <th>(30, 40]</th>\n",
       "      <td>155</td>\n",
       "      <td>155</td>\n",
       "      <td>155</td>\n",
       "      <td>155</td>\n",
       "      <td>155</td>\n",
       "      <td>155</td>\n",
       "      <td>155</td>\n",
       "      <td>155</td>\n",
       "      <td>155</td>\n",
       "      <td>155</td>\n",
       "      <td>50</td>\n",
       "      <td>154</td>\n",
       "    </tr>\n",
       "    <tr>\n",
       "      <th>(40, 50]</th>\n",
       "      <td>86</td>\n",
       "      <td>86</td>\n",
       "      <td>86</td>\n",
       "      <td>86</td>\n",
       "      <td>86</td>\n",
       "      <td>86</td>\n",
       "      <td>86</td>\n",
       "      <td>86</td>\n",
       "      <td>86</td>\n",
       "      <td>86</td>\n",
       "      <td>33</td>\n",
       "      <td>86</td>\n",
       "    </tr>\n",
       "    <tr>\n",
       "      <th>(50, 60]</th>\n",
       "      <td>42</td>\n",
       "      <td>42</td>\n",
       "      <td>42</td>\n",
       "      <td>42</td>\n",
       "      <td>42</td>\n",
       "      <td>42</td>\n",
       "      <td>42</td>\n",
       "      <td>42</td>\n",
       "      <td>42</td>\n",
       "      <td>42</td>\n",
       "      <td>22</td>\n",
       "      <td>42</td>\n",
       "    </tr>\n",
       "    <tr>\n",
       "      <th>(60, 70]</th>\n",
       "      <td>17</td>\n",
       "      <td>17</td>\n",
       "      <td>17</td>\n",
       "      <td>17</td>\n",
       "      <td>17</td>\n",
       "      <td>17</td>\n",
       "      <td>17</td>\n",
       "      <td>17</td>\n",
       "      <td>17</td>\n",
       "      <td>17</td>\n",
       "      <td>9</td>\n",
       "      <td>16</td>\n",
       "    </tr>\n",
       "    <tr>\n",
       "      <th>(70, 80]</th>\n",
       "      <td>5</td>\n",
       "      <td>5</td>\n",
       "      <td>5</td>\n",
       "      <td>5</td>\n",
       "      <td>5</td>\n",
       "      <td>5</td>\n",
       "      <td>5</td>\n",
       "      <td>5</td>\n",
       "      <td>5</td>\n",
       "      <td>5</td>\n",
       "      <td>2</td>\n",
       "      <td>5</td>\n",
       "    </tr>\n",
       "  </tbody>\n",
       "</table>\n",
       "</div>"
      ],
      "text/plain": [
       "          PassengerId  Survived  Pclass  Name  Sex  Age  SibSp  Parch  Ticket  \\\n",
       "Age                                                                             \n",
       "(0, 10]            64        64      64    64   64   64     64     64      64   \n",
       "(10, 20]          115       115     115   115  115  115    115    115     115   \n",
       "(20, 30]          230       230     230   230  230  230    230    230     230   \n",
       "(30, 40]          155       155     155   155  155  155    155    155     155   \n",
       "(40, 50]           86        86      86    86   86   86     86     86      86   \n",
       "(50, 60]           42        42      42    42   42   42     42     42      42   \n",
       "(60, 70]           17        17      17    17   17   17     17     17      17   \n",
       "(70, 80]            5         5       5     5    5    5      5      5       5   \n",
       "\n",
       "          Fare  Cabin  Embarked  \n",
       "Age                              \n",
       "(0, 10]     64     10        64  \n",
       "(10, 20]   115     19       115  \n",
       "(20, 30]   230     40       230  \n",
       "(30, 40]   155     50       154  \n",
       "(40, 50]    86     33        86  \n",
       "(50, 60]    42     22        42  \n",
       "(60, 70]    17      9        16  \n",
       "(70, 80]     5      2         5  "
      ]
     },
     "execution_count": 25,
     "metadata": {},
     "output_type": "execute_result"
    }
   ],
   "source": [
    "bins=np.array([0,10,20,30,40,50,60,70,80])\n",
    "age_bins=pd.cut(agesex_df['Age'],bins)  # Return indices of half-open bins to which each value of x belongs.\n",
    "agesex_df.groupby(age_bins).count()"
   ]
  },
  {
   "cell_type": "code",
   "execution_count": 27,
   "metadata": {},
   "outputs": [
    {
     "name": "stdout",
     "output_type": "stream",
     "text": [
      "Age\n",
      "(0, 10]      64\n",
      "(10, 20]    115\n",
      "(20, 30]    230\n",
      "(30, 40]    155\n",
      "(40, 50]     86\n",
      "(50, 60]     42\n",
      "(60, 70]     17\n",
      "(70, 80]      5\n",
      "Name: PassengerId, dtype: int64\n"
     ]
    }
   ],
   "source": [
    "counts = agesex_df.groupby(age_bins)['PassengerId'].count()\n",
    "print (counts)"
   ]
  },
  {
   "cell_type": "code",
   "execution_count": 36,
   "metadata": {},
   "outputs": [
    {
     "data": {
      "text/plain": [
       "Text(0.5,1,'Percentage of passangers in age group')"
      ]
     },
     "execution_count": 36,
     "metadata": {},
     "output_type": "execute_result"
    },
    {
     "data": {
      "image/png": "[encoded data removed]",
      "text/plain": [
       "<Figure size 432x288 with 1 Axes>"
      ]
     },
     "metadata": {},
     "output_type": "display_data"
    }
   ],
   "source": [
    "plt.pie(counts,autopct='%1.1f%%')\n",
    "\n",
    "plt.axis('equal')\n",
    "labels=['0-10','10-20','20-30','30-40','40-50','50-60','60-70','70-80']\n",
    "plt.legend(labels)\n",
    "plt.title('Percentage of passangers in age group')"
   ]
  },
  {
   "cell_type": "code",
   "execution_count": 40,
   "metadata": {},
   "outputs": [
    {
     "data": {
      "text/plain": [
       "Text(0,0.5,'Survival rate')"
      ]
     },
     "execution_count": 40,
     "metadata": {},
     "output_type": "execute_result"
    },
    {
     "data": {
      "image/png": "[encoded data removed]",
      "text/plain": [
       "<Figure size 432x288 with 1 Axes>"
      ]
     },
     "metadata": {},
     "output_type": "display_data"
    }
   ],
   "source": [
    "n_groups=8\n",
    "\n",
    "index=np.arange(n_groups)\n",
    "means=agesex_df.groupby(age_bins)['Survived'].mean()\n",
    "plt.bar(index,means)\n",
    "\n",
    "bar_width=0.5\n",
    "\n",
    "labels=['0-10','10-20','20-30','30-40','40-50','50-60','60-70','70-80']\n",
    "plt.xticks(index + bar_width, labels)\n",
    "\n",
    "plt.title('Survival rate for different age groups')\n",
    "plt.xlabel('Age group')\n",
    "plt.ylabel('Survival rate')"
   ]
  },
  {
   "cell_type": "markdown",
   "metadata": {},
   "source": [
    "It seems that the people of age 0-10 (children), have the highest survival rate. Old people have the lowest survival rate.\n",
    "\n",
    "It may be due to:\n",
    "1. Old people are less physically strong as young people\n",
    "2. Old people sacrifice their change\n",
    "3. Children have the higher priority\n",
    "4. Children are small in size and are easier to be saved with limited lifeboat\n"
   ]
  },
  {
   "cell_type": "code",
   "execution_count": 44,
   "metadata": {},
   "outputs": [
    {
     "data": {
      "text/plain": [
       "([<matplotlib.axis.XTick at 0x2c6f18756d8>,\n",
       "  <matplotlib.axis.XTick at 0x2c6f1871fd0>,\n",
       "  <matplotlib.axis.XTick at 0x2c6f1871d68>],\n",
       " <a list of 3 Text xticklabel objects>)"
      ]
     },
     "execution_count": 44,
     "metadata": {},
     "output_type": "execute_result"
    },
    {
     "data": {
      "image/png": "[encoded data removed]",
      "text/plain": [
       "<Figure size 432x288 with 1 Axes>"
      ]
     },
     "metadata": {},
     "output_type": "display_data"
    }
   ],
   "source": [
    "children_df=agesex_df[agesex_df['Age']<=10]\n",
    "\n",
    "number_of_children = children_df['PassengerId'].count()\n",
    "children_df['Parch'].hist(bins=np.arange(4)-0.5)\n",
    "\n",
    "plt.xlabel('Number of parents of children')\n",
    "plt.ylabel('Count')\n",
    "plt.xticks(range(3))"
   ]
  },
  {
   "cell_type": "markdown",
   "metadata": {},
   "source": [
    "Most children have 1-2 parents.\n",
    "\n",
    "Next I will try to see whether the number of parents/siblings is related to the survival rate."
   ]
  },
  {
   "cell_type": "code",
   "execution_count": 45,
   "metadata": {},
   "outputs": [
    {
     "data": {
      "text/html": [
       "<div>\n",
       "<style scoped>\n",
       "    .dataframe tbody tr th:only-of-type {\n",
       "        vertical-align: middle;\n",
       "    }\n",
       "\n",
       "    .dataframe tbody tr th {\n",
       "        vertical-align: top;\n",
       "    }\n",
       "\n",
       "    .dataframe thead th {\n",
       "        text-align: right;\n",
       "    }\n",
       "</style>\n",
       "<table border=\"1\" class=\"dataframe\">\n",
       "  <thead>\n",
       "    <tr style=\"text-align: right;\">\n",
       "      <th></th>\n",
       "      <th>PassengerId</th>\n",
       "      <th>Pclass</th>\n",
       "      <th>Age</th>\n",
       "      <th>SibSp</th>\n",
       "      <th>Parch</th>\n",
       "      <th>Fare</th>\n",
       "    </tr>\n",
       "    <tr>\n",
       "      <th>Survived</th>\n",
       "      <th></th>\n",
       "      <th></th>\n",
       "      <th></th>\n",
       "      <th></th>\n",
       "      <th></th>\n",
       "      <th></th>\n",
       "    </tr>\n",
       "  </thead>\n",
       "  <tbody>\n",
       "    <tr>\n",
       "      <th>0</th>\n",
       "      <td>391.153846</td>\n",
       "      <td>2.923077</td>\n",
       "      <td>5.423077</td>\n",
       "      <td>3.192308</td>\n",
       "      <td>1.538462</td>\n",
       "      <td>34.479165</td>\n",
       "    </tr>\n",
       "    <tr>\n",
       "      <th>1</th>\n",
       "      <td>458.000000</td>\n",
       "      <td>2.447368</td>\n",
       "      <td>3.478158</td>\n",
       "      <td>0.921053</td>\n",
       "      <td>1.342105</td>\n",
       "      <td>27.666995</td>\n",
       "    </tr>\n",
       "  </tbody>\n",
       "</table>\n",
       "</div>"
      ],
      "text/plain": [
       "          PassengerId    Pclass       Age     SibSp     Parch       Fare\n",
       "Survived                                                                \n",
       "0          391.153846  2.923077  5.423077  3.192308  1.538462  34.479165\n",
       "1          458.000000  2.447368  3.478158  0.921053  1.342105  27.666995"
      ]
     },
     "execution_count": 45,
     "metadata": {},
     "output_type": "execute_result"
    }
   ],
   "source": [
    "children_df.groupby('Survived').mean()"
   ]
  },
  {
   "cell_type": "markdown",
   "metadata": {},
   "source": [
    "Non-survived children have a much higher number of siblings. This may be because when there are many siblings, a single child may not get as much attention and care as those with fewer siblings. The average number of parents do not differ in survived and nonsurvived group, because almost all children traveled with parents."
   ]
  },
  {
   "cell_type": "code",
   "execution_count": 54,
   "metadata": {},
   "outputs": [
    {
     "name": "stdout",
     "output_type": "stream",
     "text": [
      "513\n"
     ]
    },
    {
     "data": {
      "text/plain": [
       "Text(0.5,1,'Survival rate for female and male passengers')"
      ]
     },
     "execution_count": 54,
     "metadata": {},
     "output_type": "execute_result"
    },
    {
     "data": {
      "image/png": "[encoded data removed]",
      "text/plain": [
       "<Figure size 432x288 with 1 Axes>"
      ]
     },
     "metadata": {},
     "output_type": "display_data"
    }
   ],
   "source": [
    "adult_df20=agesex_df[agesex_df['Age'] > 20]\n",
    "adult_df=adult_df20[adult_df20['Age'] <= 60]\n",
    "\n",
    "print (adult_df['PassengerId'].count())\n",
    "\n",
    "adult_male=adult_df[adult_df['Sex']=='male']\n",
    "adult_female=adult_df[adult_df['Sex']=='female']\n",
    "\n",
    "y=adult_df.groupby('Sex')['Survived'].mean()\n",
    "plt.bar((1,2),y,align='center')\n",
    "plt.xticks((1,2),('Female','Male'))\n",
    "plt.ylabel('survival rate')\n",
    "plt.title('Survival rate for female and male passengers')"
   ]
  },
  {
   "cell_type": "markdown",
   "metadata": {},
   "source": [
    "It seems that female have a higher survival rate.\n",
    "\n",
    "In addition, it seems that the people from a higher class have a higher survival rate. I will check that focusing on the adult"
   ]
  },
  {
   "cell_type": "code",
   "execution_count": 55,
   "metadata": {},
   "outputs": [
    {
     "data": {
      "text/plain": [
       "Pclass\n",
       "1    151\n",
       "2    135\n",
       "3    227\n",
       "Name: Survived, dtype: int64"
      ]
     },
     "execution_count": 55,
     "metadata": {},
     "output_type": "execute_result"
    }
   ],
   "source": [
    "class_df=adult_df.groupby('Pclass')\n",
    "\n",
    "class_df['Survived'].count()"
   ]
  },
  {
   "cell_type": "code",
   "execution_count": 59,
   "metadata": {},
   "outputs": [
    {
     "data": {
      "text/plain": [
       "Text(0,0.5,'Survival rate')"
      ]
     },
     "execution_count": 59,
     "metadata": {},
     "output_type": "execute_result"
    },
    {
     "data": {
      "image/png": "[encoded data removed]",
      "text/plain": [
       "<Figure size 432x288 with 1 Axes>"
      ]
     },
     "metadata": {},
     "output_type": "display_data"
    }
   ],
   "source": [
    "y2=class_df['Survived'].mean()\n",
    "plt.bar((1,2,3),y2)\n",
    "\n",
    "plt.xticks((1,2,3),('Upper','Middle','Lower'))\n",
    "plt.suptitle('Survival rate of different passenger classes age 20-60')\n",
    "plt.xlabel('Passenger class')\n",
    "plt.ylabel('Survival rate')"
   ]
  },
  {
   "cell_type": "markdown",
   "metadata": {},
   "source": [
    "It is clear that adult passangers with higher class have a higher survival rate.\n",
    "\n",
    "It may by due to:\n",
    "1. Higher class may be close to the lifeboat\n",
    "2. Higher class may be close to the exit\n",
    "3. Higher class provide better safety equipment\n",
    "\n",
    "The class could also be reflected to the ticket fare, which is shown below."
   ]
  },
  {
   "cell_type": "code",
   "execution_count": 61,
   "metadata": {},
   "outputs": [
    {
     "data": {
      "text/plain": [
       "Pclass\n",
       "1    86.638522\n",
       "2    20.871667\n",
       "3    11.532706\n",
       "Name: Fare, dtype: float64"
      ]
     },
     "execution_count": 61,
     "metadata": {},
     "output_type": "execute_result"
    }
   ],
   "source": [
    "class_df['Fare'].mean()"
   ]
  },
  {
   "cell_type": "code",
   "execution_count": 65,
   "metadata": {},
   "outputs": [],
   "source": [
    "Upper_df=adult_df[adult_df['Pclass']==1]\n",
    "Middle_df=adult_df[adult_df['Pclass']==2]\n",
    "Lower_df=adult_df[adult_df['Pclass']==3]"
   ]
  },
  {
   "cell_type": "code",
   "execution_count": 66,
   "metadata": {},
   "outputs": [],
   "source": [
    "def plot_class(dataframe,classname):\n",
    "    dataframe.hist(column='Fare',bins=50,range=(0,600))\n",
    "    title='Fare distribution of '+classname+' class'\n",
    "    plt.title(title)\n",
    "    plt.xlabel('Fare')\n",
    "    plt.ylabel('Count')"
   ]
  },
  {
   "cell_type": "code",
   "execution_count": 67,
   "metadata": {},
   "outputs": [
    {
     "data": {
      "image/png": "[encoded data removed]",
      "text/plain": [
       "<Figure size 432x288 with 1 Axes>"
      ]
     },
     "metadata": {},
     "output_type": "display_data"
    },
    {
     "data": {
      "image/png": "[encoded data removed]",
      "text/plain": [
       "<Figure size 432x288 with 1 Axes>"
      ]
     },
     "metadata": {},
     "output_type": "display_data"
    },
    {
     "data": {
      "image/png": "[encoded data removed]",
      "text/plain": [
       "<Figure size 432x288 with 1 Axes>"
      ]
     },
     "metadata": {},
     "output_type": "display_data"
    }
   ],
   "source": [
    "plot_class(Upper_df,'Upper')\n",
    "plot_class(Middle_df,'Middle')\n",
    "plot_class(Lower_df,'Lower')"
   ]
  },
  {
   "cell_type": "markdown",
   "metadata": {},
   "source": [
    "It is clear that upper class passengers pay much higher fare than middle and lower class. There is one value in upper class that seems like an outlier (>500). Although there could be extremely expensive first class tickets, it is somewhat unlikely because all other values are below 300. Given that there are 513 passengers in total, the effect of this outlier on overall results would be little. Therefore, I will not remove it in my analysis.\n",
    "\n",
    "I will now calculate the survival rate for different sexes and classes."
   ]
  },
  {
   "cell_type": "code",
   "execution_count": 70,
   "metadata": {},
   "outputs": [
    {
     "name": "stdout",
     "output_type": "stream",
     "text": [
      "Pclass  Sex   \n",
      "1       female     69\n",
      "        male       82\n",
      "2       female     58\n",
      "        male       77\n",
      "3       female     54\n",
      "        male      173\n",
      "Name: Survived, dtype: int64\n"
     ]
    }
   ],
   "source": [
    "survival_per_sex_class=adult_df.groupby(['Pclass','Sex'])['Survived'].count()\n",
    "print (survival_per_sex_class)"
   ]
  },
  {
   "cell_type": "code",
   "execution_count": 72,
   "metadata": {},
   "outputs": [
    {
     "name": "stdout",
     "output_type": "stream",
     "text": [
      "Pclass         1         2         3\n",
      "Female  0.971014  0.896552  0.407407\n",
      "Male    0.426829  0.051948  0.132948\n"
     ]
    }
   ],
   "source": [
    "pd1=adult_female.groupby('Pclass')['Survived'].mean()\n",
    "pd2=adult_male.groupby('Pclass')['Survived'].mean()\n",
    "\n",
    "data={'Female':pd1,'Male':pd2}\n",
    "class_sex_df=pd.DataFrame(data).transpose()\n",
    "\n",
    "print (class_sex_df)"
   ]
  },
  {
   "cell_type": "code",
   "execution_count": 81,
   "metadata": {},
   "outputs": [
    {
     "data": {
      "text/plain": [
       "<matplotlib.colorbar.Colorbar at 0x2c6f3e44ef0>"
      ]
     },
     "execution_count": 81,
     "metadata": {},
     "output_type": "execute_result"
    },
    {
     "data": {
      "image/png": "[encoded data removed]",
      "text/plain": [
       "<Figure size 1080x1080 with 2 Axes>"
      ]
     },
     "metadata": {},
     "output_type": "display_data"
    }
   ],
   "source": [
    "heatmap=class_sex_df\n",
    "plt.figure(figsize=(15,15))\n",
    "\n",
    "plt.imshow(heatmap,cmap=plt.cm.Blues,interpolation='nearest')\n",
    "plt.xticks(range(3),('Upper','Middle','Lower'))\n",
    "plt.yticks(range(2),('Female','Male'))\n",
    "plt.title('Survival rate for different classes and sexs of passengers age 20-60')\n",
    "plt.grid(False)\n",
    "plt.colorbar()"
   ]
  },
  {
   "cell_type": "markdown",
   "metadata": {},
   "source": [
    "This heatmap shows that upper class female adult passengers age 20-60 have the highest survival rate of 97%, while middle class and lower class male passengers have low survival rate below 20%."
   ]
  },
  {
   "cell_type": "markdown",
   "metadata": {},
   "source": [
    "## Conclusion"
   ]
  },
  {
   "cell_type": "markdown",
   "metadata": {},
   "source": [
    "In conclusion, it is reported that the people with higher class and higher fares are more likely to survive. This may be related to the cabin equipment, location, safety setup, rescue priority.\n",
    "\n",
    "The demographic features of survived passangers show that:\n",
    "1. children of age 0-10 have the highest survival rate, and children with more siblings have lower survival rate. Further study may be necessary to find out the correlation between the survival of children and their parents.\n",
    "2. People older than 60 have the lowest survival rate. Further study may be necessary fo find out the correlation between the survivals and their marraige.\n",
    "3. Femail passangers have higher survival rate. Again, further study may be necessary fo find out whether they are single or married, and if married how were their husbands.\n",
    "\n",
    "These findings conclude that children and upper class female are more likely to survive in Titanic.\n",
    "\n",
    "Limitations: only 891 samples are available whereas the population is 2224. The data may not represent the population well and may have survival bias depending on the data collection process.\n"
   ]
  }
 ],
 "metadata": {
  "kernelspec": {
   "display_name": "Python 3",
   "language": "python",
   "name": "python3"
  },
  "language_info": {
   "codemirror_mode": {
    "name": "ipython",
    "version": 3
   },
   "file_extension": ".py",
   "mimetype": "text/x-python",
   "name": "python",
   "nbconvert_exporter": "python",
   "pygments_lexer": "ipython3",
   "version": "3.6.5"
  }
 },
 "nbformat": 4,
 "nbformat_minor": 2
}
